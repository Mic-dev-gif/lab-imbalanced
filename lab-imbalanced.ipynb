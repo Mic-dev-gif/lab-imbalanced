{
 "cells": [
  {
   "cell_type": "markdown",
   "metadata": {},
   "source": [
    "# LAB | Imbalanced"
   ]
  },
  {
   "cell_type": "markdown",
   "metadata": {},
   "source": [
    "**Load the data**\n",
    "\n",
    "In this challenge, we will be working with Credit Card Fraud dataset.\n",
    "\n",
    "https://raw.githubusercontent.com/data-bootcamp-v4/data/main/card_transdata.csv\n",
    "\n",
    "Metadata\n",
    "\n",
    "- **distance_from_home:** the distance from home where the transaction happened.\n",
    "- **distance_from_last_transaction:** the distance from last transaction happened.\n",
    "- **ratio_to_median_purchase_price:** Ratio of purchased price transaction to median purchase price.\n",
    "- **repeat_retailer:** Is the transaction happened from same retailer.\n",
    "- **used_chip:** Is the transaction through chip (credit card).\n",
    "- **used_pin_number:** Is the transaction happened by using PIN number.\n",
    "- **online_order:** Is the transaction an online order.\n",
    "- **fraud:** Is the transaction fraudulent. **0=legit** -  **1=fraud**\n"
   ]
  },
  {
   "cell_type": "code",
   "execution_count": 1,
   "metadata": {},
   "outputs": [],
   "source": [
    "#Libraries\n",
    "import pandas as pd\n",
    "import numpy as np\n",
    "from sklearn.model_selection import train_test_split"
   ]
  },
  {
   "cell_type": "code",
   "execution_count": 2,
   "metadata": {},
   "outputs": [
    {
     "data": {
      "application/vnd.microsoft.datawrangler.viewer.v0+json": {
       "columns": [
        {
         "name": "index",
         "rawType": "int64",
         "type": "integer"
        },
        {
         "name": "distance_from_home",
         "rawType": "float64",
         "type": "float"
        },
        {
         "name": "distance_from_last_transaction",
         "rawType": "float64",
         "type": "float"
        },
        {
         "name": "ratio_to_median_purchase_price",
         "rawType": "float64",
         "type": "float"
        },
        {
         "name": "repeat_retailer",
         "rawType": "float64",
         "type": "float"
        },
        {
         "name": "used_chip",
         "rawType": "float64",
         "type": "float"
        },
        {
         "name": "used_pin_number",
         "rawType": "float64",
         "type": "float"
        },
        {
         "name": "online_order",
         "rawType": "float64",
         "type": "float"
        },
        {
         "name": "fraud",
         "rawType": "float64",
         "type": "float"
        }
       ],
       "ref": "facbbb9c-c6f3-44ca-b7c3-3e14d45c9f72",
       "rows": [
        [
         "0",
         "57.87785658389723",
         "0.3111400080477545",
         "1.9459399775518595",
         "1.0",
         "1.0",
         "0.0",
         "0.0",
         "0.0"
        ],
        [
         "1",
         "10.829942699255543",
         "0.1755915022816658",
         "1.294218810619857",
         "1.0",
         "0.0",
         "0.0",
         "0.0",
         "0.0"
        ],
        [
         "2",
         "5.091079490616996",
         "0.8051525945853258",
         "0.4277145611942758",
         "1.0",
         "0.0",
         "0.0",
         "1.0",
         "0.0"
        ],
        [
         "3",
         "2.2475643282963613",
         "5.60004354707232",
         "0.3626625780570958",
         "1.0",
         "1.0",
         "0.0",
         "1.0",
         "0.0"
        ],
        [
         "4",
         "44.19093600261837",
         "0.5664862680583477",
         "2.2227672978404707",
         "1.0",
         "1.0",
         "0.0",
         "1.0",
         "0.0"
        ]
       ],
       "shape": {
        "columns": 8,
        "rows": 5
       }
      },
      "text/html": [
       "<div>\n",
       "<style scoped>\n",
       "    .dataframe tbody tr th:only-of-type {\n",
       "        vertical-align: middle;\n",
       "    }\n",
       "\n",
       "    .dataframe tbody tr th {\n",
       "        vertical-align: top;\n",
       "    }\n",
       "\n",
       "    .dataframe thead th {\n",
       "        text-align: right;\n",
       "    }\n",
       "</style>\n",
       "<table border=\"1\" class=\"dataframe\">\n",
       "  <thead>\n",
       "    <tr style=\"text-align: right;\">\n",
       "      <th></th>\n",
       "      <th>distance_from_home</th>\n",
       "      <th>distance_from_last_transaction</th>\n",
       "      <th>ratio_to_median_purchase_price</th>\n",
       "      <th>repeat_retailer</th>\n",
       "      <th>used_chip</th>\n",
       "      <th>used_pin_number</th>\n",
       "      <th>online_order</th>\n",
       "      <th>fraud</th>\n",
       "    </tr>\n",
       "  </thead>\n",
       "  <tbody>\n",
       "    <tr>\n",
       "      <th>0</th>\n",
       "      <td>57.877857</td>\n",
       "      <td>0.311140</td>\n",
       "      <td>1.945940</td>\n",
       "      <td>1.0</td>\n",
       "      <td>1.0</td>\n",
       "      <td>0.0</td>\n",
       "      <td>0.0</td>\n",
       "      <td>0.0</td>\n",
       "    </tr>\n",
       "    <tr>\n",
       "      <th>1</th>\n",
       "      <td>10.829943</td>\n",
       "      <td>0.175592</td>\n",
       "      <td>1.294219</td>\n",
       "      <td>1.0</td>\n",
       "      <td>0.0</td>\n",
       "      <td>0.0</td>\n",
       "      <td>0.0</td>\n",
       "      <td>0.0</td>\n",
       "    </tr>\n",
       "    <tr>\n",
       "      <th>2</th>\n",
       "      <td>5.091079</td>\n",
       "      <td>0.805153</td>\n",
       "      <td>0.427715</td>\n",
       "      <td>1.0</td>\n",
       "      <td>0.0</td>\n",
       "      <td>0.0</td>\n",
       "      <td>1.0</td>\n",
       "      <td>0.0</td>\n",
       "    </tr>\n",
       "    <tr>\n",
       "      <th>3</th>\n",
       "      <td>2.247564</td>\n",
       "      <td>5.600044</td>\n",
       "      <td>0.362663</td>\n",
       "      <td>1.0</td>\n",
       "      <td>1.0</td>\n",
       "      <td>0.0</td>\n",
       "      <td>1.0</td>\n",
       "      <td>0.0</td>\n",
       "    </tr>\n",
       "    <tr>\n",
       "      <th>4</th>\n",
       "      <td>44.190936</td>\n",
       "      <td>0.566486</td>\n",
       "      <td>2.222767</td>\n",
       "      <td>1.0</td>\n",
       "      <td>1.0</td>\n",
       "      <td>0.0</td>\n",
       "      <td>1.0</td>\n",
       "      <td>0.0</td>\n",
       "    </tr>\n",
       "  </tbody>\n",
       "</table>\n",
       "</div>"
      ],
      "text/plain": [
       "   distance_from_home  distance_from_last_transaction  \\\n",
       "0           57.877857                        0.311140   \n",
       "1           10.829943                        0.175592   \n",
       "2            5.091079                        0.805153   \n",
       "3            2.247564                        5.600044   \n",
       "4           44.190936                        0.566486   \n",
       "\n",
       "   ratio_to_median_purchase_price  repeat_retailer  used_chip  \\\n",
       "0                        1.945940              1.0        1.0   \n",
       "1                        1.294219              1.0        0.0   \n",
       "2                        0.427715              1.0        0.0   \n",
       "3                        0.362663              1.0        1.0   \n",
       "4                        2.222767              1.0        1.0   \n",
       "\n",
       "   used_pin_number  online_order  fraud  \n",
       "0              0.0           0.0    0.0  \n",
       "1              0.0           0.0    0.0  \n",
       "2              0.0           1.0    0.0  \n",
       "3              0.0           1.0    0.0  \n",
       "4              0.0           1.0    0.0  "
      ]
     },
     "execution_count": 2,
     "metadata": {},
     "output_type": "execute_result"
    }
   ],
   "source": [
    "fraud = pd.read_csv(\"https://raw.githubusercontent.com/data-bootcamp-v4/data/main/card_transdata.csv\")\n",
    "fraud.head()"
   ]
  },
  {
   "cell_type": "markdown",
   "metadata": {},
   "source": [
    "**Steps:**"
   ]
  },
  {
   "cell_type": "markdown",
   "metadata": {},
   "source": [
    "- **1.** What is the distribution of our target variable? Can we say we're dealing with an imbalanced dataset?\n",
    "- **2.** Train a LogisticRegression.\n",
    "- **3.** Evaluate your model. Take in consideration class importance, and evaluate it by selection the correct metric.\n",
    "- **4.** Run **Oversample** in order to balance our target variable and repeat the steps above, now with balanced data. Does it improve the performance of our model? \n",
    "- **5.** Now, run **Undersample** in order to balance our target variable and repeat the steps above (1-3), now with balanced data. Does it improve the performance of our model?\n",
    "- **6.** Finally, run **SMOTE** in order to balance our target variable and repeat the steps above (1-3), now with balanced data. Does it improve the performance of our model? "
   ]
  },
  {
   "cell_type": "markdown",
   "metadata": {},
   "source": []
  },
  {
   "cell_type": "code",
   "execution_count": 3,
   "metadata": {},
   "outputs": [
    {
     "name": "stdout",
     "output_type": "stream",
     "text": [
      "   distance_from_home  distance_from_last_transaction  \\\n",
      "0           57.877857                        0.311140   \n",
      "1           10.829943                        0.175592   \n",
      "2            5.091079                        0.805153   \n",
      "3            2.247564                        5.600044   \n",
      "4           44.190936                        0.566486   \n",
      "\n",
      "   ratio_to_median_purchase_price  repeat_retailer  used_chip  \\\n",
      "0                        1.945940              1.0        1.0   \n",
      "1                        1.294219              1.0        0.0   \n",
      "2                        0.427715              1.0        0.0   \n",
      "3                        0.362663              1.0        1.0   \n",
      "4                        2.222767              1.0        1.0   \n",
      "\n",
      "   used_pin_number  online_order  fraud  \n",
      "0              0.0           0.0    0.0  \n",
      "1              0.0           0.0    0.0  \n",
      "2              0.0           1.0    0.0  \n",
      "3              0.0           1.0    0.0  \n",
      "4              0.0           1.0    0.0  \n",
      "\n",
      "Total transactions: 1000000\n",
      "Class distribution:\n",
      " fraud\n",
      "0.0    912597\n",
      "1.0     87403\n",
      "Name: count, dtype: int64\n"
     ]
    }
   ],
   "source": [
    "import pandas as pd  # pandas for data loading :contentReference[oaicite:6]{index=6}\n",
    "import numpy as np   # numpy for numeric ops :contentReference[oaicite:7]{index=7}\n",
    "\n",
    "# 1.1 Load the dataset\n",
    "fraud = pd.read_csv(\n",
    "    \"https://raw.githubusercontent.com/data-bootcamp-v4/data/main/card_transdata.csv\"\n",
    ")  # supports reading CSV from a URL :contentReference[oaicite:8]{index=8}\n",
    "\n",
    "# 1.2 Preview data\n",
    "print(fraud.head())\n",
    "\n",
    "# 1.3 Count total observations and class distribution\n",
    "total_count = len(fraud)  # total rows :contentReference[oaicite:9]{index=9}\n",
    "fraud_counts = fraud['fraud'].value_counts()  # counts of each class :contentReference[oaicite:10]{index=10}\n",
    "\n",
    "print(\"\\nTotal transactions:\", total_count)\n",
    "print(\"Class distribution:\\n\", fraud_counts)\n"
   ]
  },
  {
   "cell_type": "code",
   "execution_count": 4,
   "metadata": {},
   "outputs": [
    {
     "name": "stdout",
     "output_type": "stream",
     "text": [
      "Training set size: (800000, 7)\n",
      "Test set size: (200000, 7)\n",
      "Train class distribution:\n",
      " fraud\n",
      "0.0    0.912597\n",
      "1.0    0.087402\n",
      "Name: proportion, dtype: float64\n"
     ]
    }
   ],
   "source": [
    "from sklearn.model_selection import train_test_split  # splitting data :contentReference[oaicite:13]{index=13}\n",
    "\n",
    "# 2.1 Separate features (X) and target (y)\n",
    "X = fraud.drop(columns=['fraud'])  # all columns except 'fraud' :contentReference[oaicite:14]{index=14}\n",
    "y = fraud['fraud']\n",
    "\n",
    "# 2.2 Stratified train/test split to maintain class ratio\n",
    "X_train, X_test, y_train, y_test = train_test_split(\n",
    "    X, y, \n",
    "    test_size=0.20, \n",
    "    random_state=42, \n",
    "    stratify=y\n",
    ")  # stratify=y retains imbalance proportion in splits :contentReference[oaicite:15]{index=15}\n",
    "\n",
    "print(\"Training set size:\", X_train.shape)  # e.g., (113527, 7) :contentReference[oaicite:16]{index=16}\n",
    "print(\"Test set size:\", X_test.shape)       # e.g., (28382, 7) :contentReference[oaicite:17]{index=17}\n",
    "print(\"Train class distribution:\\n\", y_train.value_counts(normalize=True))  # ~0.18% fraud :contentReference[oaicite:18]{index=18}\n"
   ]
  },
  {
   "cell_type": "code",
   "execution_count": 5,
   "metadata": {},
   "outputs": [
    {
     "name": "stdout",
     "output_type": "stream",
     "text": [
      "Baseline Logistic Regression (Imbalanced Data)\n",
      "  - Precision-Recall AUC: 0.7573\n",
      "  - F1-score (threshold=0.5): 0.7175\n",
      "\n",
      "Classification Report:\n",
      "               precision    recall  f1-score   support\n",
      "\n",
      "         0.0     0.9947    0.9335    0.9631    182519\n",
      "         1.0     0.5772    0.9479    0.7175     17481\n",
      "\n",
      "    accuracy                         0.9348    200000\n",
      "   macro avg     0.7859    0.9407    0.8403    200000\n",
      "weighted avg     0.9582    0.9348    0.9417    200000\n",
      "\n"
     ]
    }
   ],
   "source": [
    "from sklearn.linear_model import LogisticRegression  # logistic regression model :contentReference[oaicite:20]{index=20}\n",
    "from sklearn.metrics import (\n",
    "    precision_recall_curve, \n",
    "    average_precision_score,  # PR AUC\n",
    "    f1_score, \n",
    "    classification_report\n",
    ")  # metrics suitable for imbalanced data :contentReference[oaicite:21]{index=21}\n",
    "\n",
    "# 3.1 Initialize Logistic Regression with class weight balanced\n",
    "lr = LogisticRegression(\n",
    "    solver='lbfgs',        # default solver suitable for small-medium datasets :contentReference[oaicite:22]{index=22}\n",
    "    class_weight='balanced',  # weights inversely proportional to class frequencies :contentReference[oaicite:23]{index=23}\n",
    "    max_iter=1000, \n",
    "    random_state=42\n",
    ")\n",
    "\n",
    "# 3.2 Train the model\n",
    "lr.fit(X_train, y_train)\n",
    "\n",
    "# 3.3 Predict probabilities on test set\n",
    "y_scores = lr.predict_proba(X_test)[:, 1]  # probability of class 1 (fraud) :contentReference[oaicite:24]{index=24}\n",
    "\n",
    "# 3.4 Compute Precision-Recall AUC\n",
    "precision, recall, thresholds = precision_recall_curve(y_test, y_scores)  # :contentReference[oaicite:25]{index=25}\n",
    "pr_auc = average_precision_score(y_test, y_scores)  # :contentReference[oaicite:26]{index=26}\n",
    "\n",
    "# 3.5 Choose a threshold (e.g., default 0.5) to compute F1\n",
    "y_pred_default = (y_scores >= 0.5).astype(int)\n",
    "f1_baseline = f1_score(y_test, y_pred_default)  # :contentReference[oaicite:27]{index=27}\n",
    "\n",
    "print(\"Baseline Logistic Regression (Imbalanced Data)\")\n",
    "print(f\"  - Precision-Recall AUC: {pr_auc:.4f}\")\n",
    "print(f\"  - F1-score (threshold=0.5): {f1_baseline:.4f}\")\n",
    "print(\"\\nClassification Report:\\n\", classification_report(y_test, y_pred_default, digits=4))\n"
   ]
  },
  {
   "cell_type": "code",
   "execution_count": 6,
   "metadata": {},
   "outputs": [
    {
     "name": "stdout",
     "output_type": "stream",
     "text": [
      "After Oversampling, class distribution: fraud\n",
      "0.0    730078\n",
      "1.0    730078\n",
      "Name: count, dtype: int64\n",
      "\n",
      "Logistic Regression after Oversampling\n",
      "  - PR AUC: 0.7574\n",
      "  - F1-score (0.5): 0.7177\n",
      "Classification Report:\n",
      "               precision    recall  f1-score   support\n",
      "\n",
      "         0.0     0.9947    0.9336    0.9632    182519\n",
      "         1.0     0.5774    0.9479    0.7177     17481\n",
      "\n",
      "    accuracy                         0.9348    200000\n",
      "   macro avg     0.7861    0.9408    0.8404    200000\n",
      "weighted avg     0.9582    0.9348    0.9417    200000\n",
      "\n"
     ]
    }
   ],
   "source": [
    "from imblearn.over_sampling import RandomOverSampler  # for oversampling :contentReference[oaicite:30]{index=30}\n",
    "\n",
    "# 4.1 Initialize RandomOverSampler\n",
    "ros = RandomOverSampler(random_state=42)\n",
    "\n",
    "# 4.2 Fit-resample training data\n",
    "X_ros, y_ros = ros.fit_resample(X_train, y_train)\n",
    "print(\"After Oversampling, class distribution:\", pd.Series(y_ros).value_counts())\n",
    "\n",
    "# 4.3 Retrain Logistic Regression on oversampled data\n",
    "lr_ros = LogisticRegression(solver='lbfgs', max_iter=1000, random_state=42)\n",
    "lr_ros.fit(X_ros, y_ros)\n",
    "\n",
    "# 4.4 Evaluate on original test set\n",
    "y_scores_ros = lr_ros.predict_proba(X_test)[:, 1]\n",
    "precision_ros, recall_ros, _ = precision_recall_curve(y_test, y_scores_ros)\n",
    "pr_auc_ros = average_precision_score(y_test, y_scores_ros)\n",
    "\n",
    "y_pred_ros = (y_scores_ros >= 0.5).astype(int)\n",
    "f1_ros = f1_score(y_test, y_pred_ros)\n",
    "\n",
    "print(\"\\nLogistic Regression after Oversampling\")\n",
    "print(f\"  - PR AUC: {pr_auc_ros:.4f}\")\n",
    "print(f\"  - F1-score (0.5): {f1_ros:.4f}\")\n",
    "print(\"Classification Report:\\n\", classification_report(y_test, y_pred_ros, digits=4))\n"
   ]
  },
  {
   "cell_type": "code",
   "execution_count": 7,
   "metadata": {},
   "outputs": [
    {
     "name": "stdout",
     "output_type": "stream",
     "text": [
      "After Undersampling, class distribution: fraud\n",
      "0.0    69922\n",
      "1.0    69922\n",
      "Name: count, dtype: int64\n",
      "\n",
      "Logistic Regression after Undersampling\n",
      "  - PR AUC: 0.7565\n",
      "  - F1-score (0.5): 0.7174\n",
      "Classification Report:\n",
      "               precision    recall  f1-score   support\n",
      "\n",
      "         0.0     0.9946    0.9335    0.9631    182519\n",
      "         1.0     0.5772    0.9475    0.7174     17481\n",
      "\n",
      "    accuracy                         0.9347    200000\n",
      "   macro avg     0.7859    0.9405    0.8403    200000\n",
      "weighted avg     0.9582    0.9347    0.9416    200000\n",
      "\n"
     ]
    }
   ],
   "source": [
    "from imblearn.under_sampling import RandomUnderSampler  # for undersampling :contentReference[oaicite:34]{index=34}\n",
    "\n",
    "# 5.1 Initialize RandomUnderSampler\n",
    "rus = RandomUnderSampler(random_state=42)\n",
    "\n",
    "# 5.2 Fit-resample training data\n",
    "X_rus, y_rus = rus.fit_resample(X_train, y_train)\n",
    "print(\"After Undersampling, class distribution:\", pd.Series(y_rus).value_counts())\n",
    "\n",
    "# 5.3 Retrain Logistic Regression on undersampled data\n",
    "lr_rus = LogisticRegression(solver='lbfgs', max_iter=1000, random_state=42)\n",
    "lr_rus.fit(X_rus, y_rus)\n",
    "\n",
    "# 5.4 Evaluate on original test set\n",
    "y_scores_rus = lr_rus.predict_proba(X_test)[:, 1]\n",
    "precision_rus, recall_rus, _ = precision_recall_curve(y_test, y_scores_rus)\n",
    "pr_auc_rus = average_precision_score(y_test, y_scores_rus)\n",
    "\n",
    "y_pred_rus = (y_scores_rus >= 0.5).astype(int)\n",
    "f1_rus = f1_score(y_test, y_pred_rus)\n",
    "\n",
    "print(\"\\nLogistic Regression after Undersampling\")\n",
    "print(f\"  - PR AUC: {pr_auc_rus:.4f}\")\n",
    "print(f\"  - F1-score (0.5): {f1_rus:.4f}\")\n",
    "print(\"Classification Report:\\n\", classification_report(y_test, y_pred_rus, digits=4))\n"
   ]
  },
  {
   "cell_type": "code",
   "execution_count": 8,
   "metadata": {},
   "outputs": [
    {
     "name": "stdout",
     "output_type": "stream",
     "text": [
      "After SMOTE, class distribution: fraud\n",
      "0.0    730078\n",
      "1.0    730078\n",
      "Name: count, dtype: int64\n",
      "\n",
      "Logistic Regression after SMOTE\n",
      "  - PR AUC: 0.7617\n",
      "  - F1-score (0.5): 0.7185\n",
      "Classification Report:\n",
      "               precision    recall  f1-score   support\n",
      "\n",
      "         0.0     0.9945    0.9341    0.9634    182519\n",
      "         1.0     0.5791    0.9462    0.7185     17481\n",
      "\n",
      "    accuracy                         0.9352    200000\n",
      "   macro avg     0.7868    0.9402    0.8409    200000\n",
      "weighted avg     0.9582    0.9352    0.9420    200000\n",
      "\n"
     ]
    }
   ],
   "source": [
    "from imblearn.over_sampling import SMOTE  # SMOTE class :contentReference[oaicite:38]{index=38}\n",
    "\n",
    "# 6.1 Initialize SMOTE\n",
    "sm = SMOTE(random_state=42)\n",
    "\n",
    "# 6.2 Fit-resample training data\n",
    "X_sm, y_sm = sm.fit_resample(X_train, y_train)\n",
    "print(\"After SMOTE, class distribution:\", pd.Series(y_sm).value_counts())\n",
    "\n",
    "# 6.3 Retrain Logistic Regression on SMOTE data\n",
    "lr_sm = LogisticRegression(solver='lbfgs', max_iter=1000, random_state=42)\n",
    "lr_sm.fit(X_sm, y_sm)\n",
    "\n",
    "# 6.4 Evaluate on original test set\n",
    "y_scores_sm = lr_sm.predict_proba(X_test)[:, 1]\n",
    "precision_sm, recall_sm, _ = precision_recall_curve(y_test, y_scores_sm)\n",
    "pr_auc_sm = average_precision_score(y_test, y_scores_sm)\n",
    "\n",
    "y_pred_sm = (y_scores_sm >= 0.5).astype(int)\n",
    "f1_sm = f1_score(y_test, y_pred_sm)\n",
    "\n",
    "print(\"\\nLogistic Regression after SMOTE\")\n",
    "print(f\"  - PR AUC: {pr_auc_sm:.4f}\")\n",
    "print(f\"  - F1-score (0.5): {f1_sm:.4f}\")\n",
    "print(\"Classification Report:\\n\", classification_report(y_test, y_pred_sm, digits=4))\n"
   ]
  }
 ],
 "metadata": {
  "kernelspec": {
   "display_name": "base",
   "language": "python",
   "name": "python3"
  },
  "language_info": {
   "codemirror_mode": {
    "name": "ipython",
    "version": 3
   },
   "file_extension": ".py",
   "mimetype": "text/x-python",
   "name": "python",
   "nbconvert_exporter": "python",
   "pygments_lexer": "ipython3",
   "version": "3.12.7"
  }
 },
 "nbformat": 4,
 "nbformat_minor": 2
}
